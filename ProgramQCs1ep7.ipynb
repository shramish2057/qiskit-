{
 "cells": [
  {
   "cell_type": "code",
   "execution_count": 3,
   "id": "4374e4ff-fcdd-474b-b0b3-a55b941689cf",
   "metadata": {},
   "outputs": [
    {
     "name": "stderr",
     "output_type": "stream",
     "text": [
      "ibmqfactory.load_account:WARNING:2021-12-20 20:17:55,392: Credentials are already in use. The existing account in the session will be replaced.\n"
     ]
    }
   ],
   "source": [
    "import numpy as np\n",
    "\n",
    "# Importing standard Qiskit libraries\n",
    "from qiskit import QuantumCircuit, transpile, Aer, IBMQ\n",
    "from qiskit.tools.jupyter import *\n",
    "from qiskit.visualization import *\n",
    "from ibm_quantum_widgets import *\n",
    "from qiskit.providers.aer import QasmSimulator\n",
    "\n",
    "# Loading your IBM Quantum account(s)\n",
    "provider = IBMQ.load_account()"
   ]
  },
  {
   "cell_type": "code",
   "execution_count": null,
   "id": "1f80f060-4e37-4258-85dc-14431292a6aa",
   "metadata": {},
   "outputs": [],
   "source": []
  }
 ],
 "metadata": {
  "kernelspec": {
   "display_name": "Qiskit v0.33.1 (ipykernel)",
   "language": "python",
   "name": "python3"
  },
  "language_info": {
   "codemirror_mode": {
    "name": "ipython",
    "version": 3
   },
   "file_extension": ".py",
   "mimetype": "text/x-python",
   "name": "python",
   "nbconvert_exporter": "python",
   "pygments_lexer": "ipython3",
   "version": "3.8.10"
  },
  "widgets": {
   "application/vnd.jupyter.widget-state+json": {
    "state": {
     "04ec0f49880f4dbd9ff77b5d9103371c": {
      "model_module": "@jupyter-widgets/controls",
      "model_module_version": "1.5.0",
      "model_name": "ButtonStyleModel",
      "state": {}
     },
     "0d098faed66e45d69377b22fc43bd266": {
      "model_module": "@jupyter-widgets/base",
      "model_module_version": "1.2.0",
      "model_name": "LayoutModel",
      "state": {
       "width": "190px"
      }
     },
     "18b1f80cb1934df6884a0ef78c0ca1db": {
      "model_module": "@jupyter-widgets/controls",
      "model_module_version": "1.5.0",
      "model_name": "DescriptionStyleModel",
      "state": {
       "description_width": ""
      }
     },
     "20bbdd1dc4414e38a452fb7eb09e90a3": {
      "model_module": "@jupyter-widgets/base",
      "model_module_version": "1.2.0",
      "model_name": "LayoutModel",
      "state": {
       "margin": "0px 0px 0px 37px",
       "width": "600px"
      }
     },
     "38b23983d821402a97717b040d8b5d7c": {
      "model_module": "@jupyter-widgets/controls",
      "model_module_version": "1.5.0",
      "model_name": "HTMLModel",
      "state": {
       "layout": "IPY_MODEL_fad8d33e1ba14f15bf33f6abb0871099",
       "style": "IPY_MODEL_7f200b6457ce4611997dbb38a8ce96ee",
       "value": "<p style='font-family: IBM Plex Sans, Arial, Helvetica, sans-serif; font-size: 20px; font-weight: medium;'>Circuit Properties</p>"
      }
     },
     "3bdec83bfa2a4eac88820d2601bc44a2": {
      "model_module": "@jupyter-widgets/controls",
      "model_module_version": "1.5.0",
      "model_name": "HTMLModel",
      "state": {
       "layout": "IPY_MODEL_3ced7caa1dd746b997fd89fcc0334406",
       "style": "IPY_MODEL_3c3dad5d62854c7397f99356a396f1db",
       "value": "<h5>Queue</h5>"
      }
     },
     "3c3dad5d62854c7397f99356a396f1db": {
      "model_module": "@jupyter-widgets/controls",
      "model_module_version": "1.5.0",
      "model_name": "DescriptionStyleModel",
      "state": {
       "description_width": ""
      }
     },
     "3ced7caa1dd746b997fd89fcc0334406": {
      "model_module": "@jupyter-widgets/base",
      "model_module_version": "1.2.0",
      "model_name": "LayoutModel",
      "state": {
       "width": "70px"
      }
     },
     "49f98428c8594e0a8575393df5ee7420": {
      "model_module": "@jupyter-widgets/base",
      "model_module_version": "1.2.0",
      "model_name": "LayoutModel",
      "state": {}
     },
     "5d5766b8261e417094fd27bf6c0471df": {
      "model_module": "@jupyter-widgets/controls",
      "model_module_version": "1.5.0",
      "model_name": "DescriptionStyleModel",
      "state": {
       "description_width": ""
      }
     },
     "7838fa48d76745eeb84394ae41f86ec0": {
      "model_module": "@jupyter-widgets/controls",
      "model_module_version": "1.5.0",
      "model_name": "ButtonModel",
      "state": {
       "button_style": "primary",
       "description": "Clear",
       "layout": "IPY_MODEL_d37231a2bd0a4ac58d4ba57f043ac1f6",
       "style": "IPY_MODEL_04ec0f49880f4dbd9ff77b5d9103371c"
      }
     },
     "7c4b00680a4141eebd70f07ee0dfa6f6": {
      "model_module": "@jupyter-widgets/controls",
      "model_module_version": "1.5.0",
      "model_name": "HTMLModel",
      "state": {
       "layout": "IPY_MODEL_d4cfd9c4a1fa41db82a8375d1aed67cb",
       "style": "IPY_MODEL_5d5766b8261e417094fd27bf6c0471df",
       "value": "<h5>Status</h5>"
      }
     },
     "7f200b6457ce4611997dbb38a8ce96ee": {
      "model_module": "@jupyter-widgets/controls",
      "model_module_version": "1.5.0",
      "model_name": "DescriptionStyleModel",
      "state": {
       "description_width": ""
      }
     },
     "9c2a5c02b0c94b289a047628b559519e": {
      "model_module": "@jupyter-widgets/controls",
      "model_module_version": "1.5.0",
      "model_name": "GridBoxModel",
      "state": {
       "children": [
        "IPY_MODEL_7838fa48d76745eeb84394ae41f86ec0"
       ],
       "layout": "IPY_MODEL_9dc4eba613624d81ab015e9b15fd3428"
      }
     },
     "9cb8d3d1e2de4575be1afb25890af847": {
      "model_module": "@jupyter-widgets/controls",
      "model_module_version": "1.5.0",
      "model_name": "HBoxModel",
      "state": {
       "children": [
        "IPY_MODEL_a16b6f3d29864b8584b3e26f99159b69",
        "IPY_MODEL_d029058ccb174ee2a2be08a2b2ad1195",
        "IPY_MODEL_7c4b00680a4141eebd70f07ee0dfa6f6",
        "IPY_MODEL_3bdec83bfa2a4eac88820d2601bc44a2",
        "IPY_MODEL_f1db409ea7de4d3fae36e251db1a7025"
       ],
       "layout": "IPY_MODEL_20bbdd1dc4414e38a452fb7eb09e90a3"
      }
     },
     "9dc4eba613624d81ab015e9b15fd3428": {
      "model_module": "@jupyter-widgets/base",
      "model_module_version": "1.2.0",
      "model_name": "LayoutModel",
      "state": {
       "grid_template_areas": "\n                                       \". . . . right \"\n                                        ",
       "grid_template_columns": "20% 20% 20% 20% 20%",
       "width": "100%"
      }
     },
     "a16b6f3d29864b8584b3e26f99159b69": {
      "model_module": "@jupyter-widgets/controls",
      "model_module_version": "1.5.0",
      "model_name": "HTMLModel",
      "state": {
       "layout": "IPY_MODEL_0d098faed66e45d69377b22fc43bd266",
       "style": "IPY_MODEL_e66eeb73dddf4db9ba1d770dfe608d01",
       "value": "<h5>Job ID</h5>"
      }
     },
     "a7db0c7f750946f3b7c6a76d0c624cab": {
      "model_module": "@jupyter-widgets/controls",
      "model_module_version": "1.5.0",
      "model_name": "DescriptionStyleModel",
      "state": {
       "description_width": ""
      }
     },
     "bb518c9f5d6340b998c2b42a9db33a7b": {
      "model_module": "@jupyter-widgets/base",
      "model_module_version": "1.2.0",
      "model_name": "LayoutModel",
      "state": {
       "width": "145px"
      }
     },
     "d029058ccb174ee2a2be08a2b2ad1195": {
      "model_module": "@jupyter-widgets/controls",
      "model_module_version": "1.5.0",
      "model_name": "HTMLModel",
      "state": {
       "layout": "IPY_MODEL_bb518c9f5d6340b998c2b42a9db33a7b",
       "style": "IPY_MODEL_a7db0c7f750946f3b7c6a76d0c624cab",
       "value": "<h5>Backend</h5>"
      }
     },
     "d37231a2bd0a4ac58d4ba57f043ac1f6": {
      "model_module": "@jupyter-widgets/base",
      "model_module_version": "1.2.0",
      "model_name": "LayoutModel",
      "state": {
       "grid_area": "right",
       "padding": "0px 0px 0px 0px",
       "width": "70px"
      }
     },
     "d4cfd9c4a1fa41db82a8375d1aed67cb": {
      "model_module": "@jupyter-widgets/base",
      "model_module_version": "1.2.0",
      "model_name": "LayoutModel",
      "state": {
       "width": "95px"
      }
     },
     "e66eeb73dddf4db9ba1d770dfe608d01": {
      "model_module": "@jupyter-widgets/controls",
      "model_module_version": "1.5.0",
      "model_name": "DescriptionStyleModel",
      "state": {
       "description_width": ""
      }
     },
     "f1db409ea7de4d3fae36e251db1a7025": {
      "model_module": "@jupyter-widgets/controls",
      "model_module_version": "1.5.0",
      "model_name": "HTMLModel",
      "state": {
       "layout": "IPY_MODEL_49f98428c8594e0a8575393df5ee7420",
       "style": "IPY_MODEL_18b1f80cb1934df6884a0ef78c0ca1db",
       "value": "<h5>Message</h5>"
      }
     },
     "fad8d33e1ba14f15bf33f6abb0871099": {
      "model_module": "@jupyter-widgets/base",
      "model_module_version": "1.2.0",
      "model_name": "LayoutModel",
      "state": {
       "margin": "0px 0px 10px 0px"
      }
     }
    },
    "version_major": 2,
    "version_minor": 0
   }
  }
 },
 "nbformat": 4,
 "nbformat_minor": 5
}
